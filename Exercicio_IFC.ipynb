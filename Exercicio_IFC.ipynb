{
  "nbformat": 4,
  "nbformat_minor": 0,
  "metadata": {
    "colab": {
      "provenance": []
    },
    "kernelspec": {
      "name": "python3",
      "display_name": "Python 3"
    },
    "language_info": {
      "name": "python"
    }
  },
  "cells": [
    {
      "cell_type": "markdown",
      "source": [
        "1. Faça um programa que peça dois números inteiros e imprima a soma desses dois números"
      ],
      "metadata": {
        "id": "T6rLq7BVeBQ1"
      }
    },
    {
      "cell_type": "code",
      "source": [
        "valor1=int(input('digite o valor um'))\n",
        "valor2=int(input('digite o valor dois'))\n",
        "print(valor1+valor2)"
      ],
      "metadata": {
        "id": "7JSyaLW6eGV2"
      },
      "execution_count": null,
      "outputs": []
    },
    {
      "cell_type": "markdown",
      "source": [
        "2. Escreva um programa que leia um valor em metros e o exiba convertido em milímetros."
      ],
      "metadata": {
        "id": "JAoi9qq4eJha"
      }
    },
    {
      "cell_type": "code",
      "source": [
        "valor=float(input('digite o valor'))\n",
        "operacao=valor*1000\n",
        "print(f'o valor {valor} metros fica tantos em {operacao} milimetros')"
      ],
      "metadata": {
        "id": "NUlV_5BIeMSh"
      },
      "execution_count": null,
      "outputs": []
    },
    {
      "cell_type": "markdown",
      "source": [
        "3.\n",
        "Escreva um programa que leia a quantidade de dias, horas, minutos e segundos do usuário.\n",
        "Calcule o total em segundos."
      ],
      "metadata": {
        "id": "z1GfhkoleO4u"
      }
    },
    {
      "cell_type": "code",
      "source": [
        "dias = int(input('dias: '))\n",
        "horas = int(input('horas: '))\n",
        "minutos = int(input('minutos: '))\n",
        "segundos = int(input('segundos: '))\n",
        "\n",
        "# um minuto tem 60 segundos\n",
        "# uma hora tem 3600 segundos\n",
        "# um dia tem 86400 segundos\n",
        "\n",
        "total_em_segundos = dias * 24 * 3600 + horas * 3600 + minutos * 60 + segundos\n",
        "\n",
        "print(f'convertidos em segundos é igual a: {total_em_segundos} segundos')"
      ],
      "metadata": {
        "id": "pGy8nB10eRhg"
      },
      "execution_count": null,
      "outputs": []
    },
    {
      "cell_type": "markdown",
      "source": [
        "4. Faça um programa que calcule o aumento de um salário. Ele deve solicitar o valor do\n",
        "salário e a porcentagem do aumento. Exiba o valor do aumento e do novo salário."
      ],
      "metadata": {
        "id": "TZGln7JneUX8"
      }
    },
    {
      "cell_type": "code",
      "source": [
        "# aqui solicito o valor do salário\n",
        "valor_do_salario = float(input('valor do salário: '))\n",
        "\n",
        "#aqui vai solicitar a porcentagem do aumento\n",
        "porcentagem_do_aumento = float(input('porcentagem do aumento: '))\n",
        "\n",
        "#aqui será o aumento do salario\n",
        "valor_do_aumento = porcentagem_do_aumento / 100\n",
        "\n",
        "#aqui vai ser o novo salario\n",
        "novo_salario = valor_do_salario + valor_do_aumento\n",
        "\n",
        "#aqui vai exibir o valor do aumento e do novo salario\n",
        "print(f'o valor do aumento é: {valor_do_aumento:.1f}')\n",
        "print(f'o valor do novo salario é de: {novo_salario:.1f}')"
      ],
      "metadata": {
        "id": "Ii2o--kJeXGC"
      },
      "execution_count": null,
      "outputs": []
    },
    {
      "cell_type": "markdown",
      "source": [
        "5. Solicite o preço de uma mercadoria e o percentual de desconto. Exiba o valor do desconto e\n",
        "o preço a pagar"
      ],
      "metadata": {
        "id": "KA0-pafyebi_"
      }
    },
    {
      "cell_type": "code",
      "source": [
        "#aqui sera solicitado o preço da mercadoria\n",
        "\n",
        "preco = float(input('o preço da mercadoria é: '))\n",
        "#aqui sera o percentual de desconto\n",
        "\n",
        "percentual_de_desconto = float(input('o percentual de desconto é de: '))\n",
        "\n",
        "valor_do_desconto = preco * percentual_de_desconto / 100\n",
        "valor_a_pagar = preco - valor_do_desconto\n",
        "print(f'o valor a pagar é de: {valor_a_pagar:.1f}')"
      ],
      "metadata": {
        "id": "S4HVKty-eePj",
        "colab": {
          "base_uri": "https://localhost:8080/"
        },
        "outputId": "1909fab5-88b9-4c92-f250-41fc2ea07075"
      },
      "execution_count": null,
      "outputs": [
        {
          "output_type": "stream",
          "name": "stdout",
          "text": [
            "o preço da mercadoria é: 232\n",
            "o percentual de desconto é de: 67\n",
            "o valor a pagar é de: 76.6\n"
          ]
        }
      ]
    },
    {
      "cell_type": "markdown",
      "source": [
        " 6.Calcule o tempo de uma viagem de carro. Pergunte a distância a percorrer e a\n",
        "velocidade média esperada para a viagem"
      ],
      "metadata": {
        "id": "sFhmAHMMU-ld"
      }
    },
    {
      "cell_type": "code",
      "source": [
        "#aqui sera a distância percorrida\n",
        "distancia = float(input('Qual vai ser a distância em que você vai percorrer?'))\n",
        "\n",
        "#aqui sera a velocidade média\n",
        "vel_media = float(input('Qual será sua velocidade média?'))\n",
        "\n",
        "#aqui sera o calculo do tempo da viagem\n",
        "calculo = distancia / vel_media\n",
        "\n",
        "print(f'A velocidade média que será percorrida é de: {calculo:.2f} horas')\n",
        "\n"
      ],
      "metadata": {
        "colab": {
          "base_uri": "https://localhost:8080/"
        },
        "id": "h0rt7NrOVA1Q",
        "outputId": "f88c2cbf-27cf-4bda-db99-09cb8974d916"
      },
      "execution_count": 17,
      "outputs": [
        {
          "output_type": "stream",
          "name": "stdout",
          "text": [
            "Qual vai ser a distância em que você vai percorrer?2000\n",
            "Qual será sua velocidade média?65.3\n",
            "A velocidade média que será percorrida é de: 30.63 horas\n"
          ]
        }
      ]
    },
    {
      "cell_type": "markdown",
      "source": [
        "7. Converta uma temperatura digitada em Celsius para Fahrenheit. F = 9*C/5 + 32 . Faça\n",
        "agora o contrário, de Fahrenheit para Celsius."
      ],
      "metadata": {
        "id": "vyRxkCRObto5"
      }
    },
    {
      "cell_type": "code",
      "source": [
        "#aqui ira ficar a temperatura digitada em celsius para fahrenheit\n",
        "\n",
        "celsius = float(input('Qual sera a temperatura escolhida de Graus Celsius para a conversão em (Farenheit)'))\n",
        "conversao = (celsius - 32) / 1.8\n",
        "\n",
        "print(f'A conversão para farenheit será de: {conversao:.2f}')\n",
        "\n",
        "#aqui sera a conversao de fahrenheit para celsius\n",
        "\n",
        "fahrenheit = float(input('Qual sera a temperatura escolhida de Graus Farenheit para conversão em (Celsius)'))\n",
        "conversao2 = (fahrenheit + 32) * 1.8\n",
        "\n",
        "print(f'A conversao para Celsius será de: {conversao2:.2f}')\n",
        "print(f'O resultado das duas temperaturas será: {conversao:.2f} Graus, {conversao2:.2f} Fahrenheit.')"
      ],
      "metadata": {
        "colab": {
          "base_uri": "https://localhost:8080/"
        },
        "id": "H1QEAKPJbwxe",
        "outputId": "344847e7-6f67-4955-b120-8e94ece11519"
      },
      "execution_count": 42,
      "outputs": [
        {
          "output_type": "stream",
          "name": "stdout",
          "text": [
            "Qual sera a temperatura escolhida de Graus Celsius para a conversão em (Farenheit)20\n",
            "A conversão para farenheit será de: -6.67\n",
            "Qual sera a temperatura escolhida de Graus Farenheit para conversão em (Celsius)41\n",
            "A conversao para Celsius será de: 131.40\n",
            "O resultado das duas temperaturas será: -6.67 Graus, 131.40 Fahrenheit.\n"
          ]
        }
      ]
    },
    {
      "cell_type": "markdown",
      "source": [],
      "metadata": {
        "id": "Nd2Njupvjlx5"
      }
    }
  ]
}